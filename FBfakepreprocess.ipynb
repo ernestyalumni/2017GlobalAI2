{
 "cells": [
  {
   "cell_type": "code",
   "execution_count": 96,
   "metadata": {
    "collapsed": true
   },
   "outputs": [],
   "source": [
    "import pandas as pd\n",
    "import numpy as np"
   ]
  },
  {
   "cell_type": "code",
   "execution_count": 97,
   "metadata": {
    "collapsed": true
   },
   "outputs": [],
   "source": [
    "FBposts = pd.read_csv(\"./data/facebook-fact-check.csv\")"
   ]
  },
  {
   "cell_type": "markdown",
   "metadata": {},
   "source": [
    "# Dates to Float  "
   ]
  },
  {
   "cell_type": "code",
   "execution_count": 98,
   "metadata": {
    "collapsed": true
   },
   "outputs": [],
   "source": [
    "FBposts_datesDF=pd.to_datetime(FBposts['Date Published'])"
   ]
  },
  {
   "cell_type": "code",
   "execution_count": 99,
   "metadata": {
    "collapsed": true
   },
   "outputs": [],
   "source": [
    "FBposts_datesfloatDF= (FBposts_datesDF - FBposts_datesDF.min())  / np.timedelta64(1,'D') "
   ]
  },
  {
   "cell_type": "code",
   "execution_count": 72,
   "metadata": {
    "collapsed": false
   },
   "outputs": [
    {
     "data": {
      "text/plain": [
       "pandas.core.series.Series"
      ]
     },
     "execution_count": 72,
     "metadata": {},
     "output_type": "execute_result"
    }
   ],
   "source": [
    "type(FBposts_datesfloatDF)"
   ]
  },
  {
   "cell_type": "code",
   "execution_count": 100,
   "metadata": {
    "collapsed": false
   },
   "outputs": [
    {
     "name": "stdout",
     "output_type": "stream",
     "text": [
      "12\n"
     ]
    }
   ],
   "source": [
    "print(len(FBposts.columns))"
   ]
  },
  {
   "cell_type": "code",
   "execution_count": 101,
   "metadata": {
    "collapsed": false
   },
   "outputs": [
    {
     "name": "stdout",
     "output_type": "stream",
     "text": [
      "13\n"
     ]
    }
   ],
   "source": [
    "FBposts['date_delta']=FBposts_datesfloatDF\n",
    "print(len(FBposts.columns))"
   ]
  },
  {
   "cell_type": "markdown",
   "metadata": {},
   "source": [
    "## Clean NaN"
   ]
  },
  {
   "cell_type": "code",
   "execution_count": 102,
   "metadata": {
    "collapsed": true
   },
   "outputs": [],
   "source": [
    "FBposts_cleanedNaN = FBposts.fillna(FBposts.mean())"
   ]
  },
  {
   "cell_type": "markdown",
   "metadata": {},
   "source": [
    "# Dealing with Category or author from who's writing what on FB posts"
   ]
  },
  {
   "cell_type": "code",
   "execution_count": 103,
   "metadata": {
    "collapsed": true
   },
   "outputs": [],
   "source": [
    "from NLP_nltk import levenshtein_distance"
   ]
  },
  {
   "cell_type": "code",
   "execution_count": 104,
   "metadata": {
    "collapsed": false
   },
   "outputs": [
    {
     "data": {
      "text/plain": [
       "Index([u'account_id', u'post_id', u'Category', u'Page', u'Post URL',\n",
       "       u'Date Published', u'Post Type', u'Rating', u'Debate', u'share_count',\n",
       "       u'reaction_count', u'comment_count', u'date_delta'],\n",
       "      dtype='object')"
      ]
     },
     "execution_count": 104,
     "metadata": {},
     "output_type": "execute_result"
    }
   ],
   "source": [
    "FBposts_cleanedNaN.columns"
   ]
  },
  {
   "cell_type": "code",
   "execution_count": 105,
   "metadata": {
    "collapsed": false
   },
   "outputs": [],
   "source": [
    "FBposts_Categorynorm=pd.DataFrame([levenshtein_distance(FBposts_cleanedNaN[\"Category\"].mode()[0],author) for author in FBposts_cleanedNaN['Category']])"
   ]
  },
  {
   "cell_type": "code",
   "execution_count": 106,
   "metadata": {
    "collapsed": false
   },
   "outputs": [
    {
     "name": "stdout",
     "output_type": "stream",
     "text": [
      "14\n"
     ]
    }
   ],
   "source": [
    "FBposts_cleanedNaN['Categorynorm']=FBposts_Categorynorm\n",
    "print(len(FBposts_cleanedNaN.columns))"
   ]
  },
  {
   "cell_type": "markdown",
   "metadata": {},
   "source": [
    "# more data; normalizing `account_id`"
   ]
  },
  {
   "cell_type": "code",
   "execution_count": 107,
   "metadata": {
    "collapsed": false
   },
   "outputs": [],
   "source": [
    "FBposts_acctidnorm=pd.DataFrame([levenshtein_distance(str(FBposts_cleanedNaN[\"account_id\"].mode()[0]),str(acctid)) for acctid in FBposts_cleanedNaN['account_id']])"
   ]
  },
  {
   "cell_type": "code",
   "execution_count": 108,
   "metadata": {
    "collapsed": false
   },
   "outputs": [
    {
     "name": "stdout",
     "output_type": "stream",
     "text": [
      "15\n"
     ]
    }
   ],
   "source": [
    "FBposts_cleanedNaN['account_idnorm']=FBposts_acctidnorm\n",
    "print(len(FBposts_cleanedNaN.columns))"
   ]
  },
  {
   "cell_type": "code",
   "execution_count": 109,
   "metadata": {
    "collapsed": false
   },
   "outputs": [],
   "source": [
    "FBpostsX=FBposts_cleanedNaN[[\"account_idnorm\",\"Categorynorm\",\"date_delta\",\"share_count\",\"reaction_count\",\"comment_count\"]]"
   ]
  },
  {
   "cell_type": "markdown",
   "metadata": {},
   "source": [
    "## Having a $Y$ value"
   ]
  },
  {
   "cell_type": "code",
   "execution_count": 110,
   "metadata": {
    "collapsed": false
   },
   "outputs": [],
   "source": [
    "FBpostsY=FBposts_cleanedNaN[\"Rating\"]"
   ]
  },
  {
   "cell_type": "code",
   "execution_count": 111,
   "metadata": {
    "collapsed": false
   },
   "outputs": [],
   "source": [
    "FBpostsY=FBpostsY.replace(\"mostly true\",0.75)\n",
    "FBpostsY=FBpostsY.replace(\"no factual content\",0.5)\n",
    "FBpostsY=FBpostsY.replace(\"mixture of true and false\",0.25)\n",
    "FBpostsY=FBpostsY.replace(\"mostly false\",0.0)\n"
   ]
  },
  {
   "cell_type": "code",
   "execution_count": 85,
   "metadata": {
    "collapsed": false
   },
   "outputs": [
    {
     "data": {
      "text/plain": [
       "RangeIndex(start=0, stop=2282, step=1)"
      ]
     },
     "execution_count": 85,
     "metadata": {},
     "output_type": "execute_result"
    }
   ],
   "source": [
    "FBpostsY.index"
   ]
  },
  {
   "cell_type": "code",
   "execution_count": 112,
   "metadata": {
    "collapsed": false
   },
   "outputs": [
    {
     "data": {
      "text/html": [
       "<div>\n",
       "<table border=\"1\" class=\"dataframe\">\n",
       "  <thead>\n",
       "    <tr style=\"text-align: right;\">\n",
       "      <th></th>\n",
       "      <th>account_idnorm</th>\n",
       "      <th>Categorynorm</th>\n",
       "      <th>date_delta</th>\n",
       "      <th>share_count</th>\n",
       "      <th>reaction_count</th>\n",
       "      <th>comment_count</th>\n",
       "    </tr>\n",
       "  </thead>\n",
       "  <tbody>\n",
       "    <tr>\n",
       "      <th>count</th>\n",
       "      <td>2282.000000</td>\n",
       "      <td>2282.000000</td>\n",
       "      <td>2282.000000</td>\n",
       "      <td>2.282000e+03</td>\n",
       "      <td>2282.000000</td>\n",
       "      <td>2282.000000</td>\n",
       "    </tr>\n",
       "    <tr>\n",
       "      <th>mean</th>\n",
       "      <td>8.770377</td>\n",
       "      <td>4.192375</td>\n",
       "      <td>3.816389</td>\n",
       "      <td>4.044816e+03</td>\n",
       "      <td>5364.284649</td>\n",
       "      <td>516.102193</td>\n",
       "    </tr>\n",
       "    <tr>\n",
       "      <th>std</th>\n",
       "      <td>4.897891</td>\n",
       "      <td>4.222367</td>\n",
       "      <td>2.857424</td>\n",
       "      <td>2.937061e+04</td>\n",
       "      <td>19118.157564</td>\n",
       "      <td>3567.790281</td>\n",
       "    </tr>\n",
       "    <tr>\n",
       "      <th>min</th>\n",
       "      <td>0.000000</td>\n",
       "      <td>0.000000</td>\n",
       "      <td>0.000000</td>\n",
       "      <td>1.000000e+00</td>\n",
       "      <td>2.000000</td>\n",
       "      <td>0.000000</td>\n",
       "    </tr>\n",
       "    <tr>\n",
       "      <th>25%</th>\n",
       "      <td>11.000000</td>\n",
       "      <td>0.000000</td>\n",
       "      <td>1.000000</td>\n",
       "      <td>2.500000e+01</td>\n",
       "      <td>149.000000</td>\n",
       "      <td>37.000000</td>\n",
       "    </tr>\n",
       "    <tr>\n",
       "      <th>50%</th>\n",
       "      <td>11.000000</td>\n",
       "      <td>0.000000</td>\n",
       "      <td>3.000000</td>\n",
       "      <td>1.080000e+02</td>\n",
       "      <td>548.000000</td>\n",
       "      <td>132.000000</td>\n",
       "    </tr>\n",
       "    <tr>\n",
       "      <th>75%</th>\n",
       "      <td>12.000000</td>\n",
       "      <td>8.000000</td>\n",
       "      <td>7.000000</td>\n",
       "      <td>1.005000e+03</td>\n",
       "      <td>2422.750000</td>\n",
       "      <td>391.000000</td>\n",
       "    </tr>\n",
       "    <tr>\n",
       "      <th>max</th>\n",
       "      <td>13.000000</td>\n",
       "      <td>9.000000</td>\n",
       "      <td>8.000000</td>\n",
       "      <td>1.088995e+06</td>\n",
       "      <td>456458.000000</td>\n",
       "      <td>159047.000000</td>\n",
       "    </tr>\n",
       "  </tbody>\n",
       "</table>\n",
       "</div>"
      ],
      "text/plain": [
       "       account_idnorm  Categorynorm   date_delta   share_count  \\\n",
       "count     2282.000000   2282.000000  2282.000000  2.282000e+03   \n",
       "mean         8.770377      4.192375     3.816389  4.044816e+03   \n",
       "std          4.897891      4.222367     2.857424  2.937061e+04   \n",
       "min          0.000000      0.000000     0.000000  1.000000e+00   \n",
       "25%         11.000000      0.000000     1.000000  2.500000e+01   \n",
       "50%         11.000000      0.000000     3.000000  1.080000e+02   \n",
       "75%         12.000000      8.000000     7.000000  1.005000e+03   \n",
       "max         13.000000      9.000000     8.000000  1.088995e+06   \n",
       "\n",
       "       reaction_count  comment_count  \n",
       "count     2282.000000    2282.000000  \n",
       "mean      5364.284649     516.102193  \n",
       "std      19118.157564    3567.790281  \n",
       "min          2.000000       0.000000  \n",
       "25%        149.000000      37.000000  \n",
       "50%        548.000000     132.000000  \n",
       "75%       2422.750000     391.000000  \n",
       "max     456458.000000  159047.000000  "
      ]
     },
     "execution_count": 112,
     "metadata": {},
     "output_type": "execute_result"
    }
   ],
   "source": [
    "FBpostsX.describe()"
   ]
  },
  {
   "cell_type": "markdown",
   "metadata": {},
   "source": [
    "# normalize further the data for account_idnorm, Categorynorm with Gaussians, share_count, reaction_count, comment_count with log"
   ]
  },
  {
   "cell_type": "code",
   "execution_count": 113,
   "metadata": {
    "collapsed": false
   },
   "outputs": [],
   "source": [
    "import sklearn\n",
    "from sklearn import preprocessing"
   ]
  },
  {
   "cell_type": "code",
   "execution_count": 114,
   "metadata": {
    "collapsed": false
   },
   "outputs": [],
   "source": [
    "from sklearn.preprocessing import FunctionTransformer\n",
    "transformer = FunctionTransformer(np.log1p)"
   ]
  },
  {
   "cell_type": "code",
   "execution_count": 115,
   "metadata": {
    "collapsed": false
   },
   "outputs": [
    {
     "name": "stderr",
     "output_type": "stream",
     "text": [
      "/home/mobicfd/.local/lib/python2.7/site-packages/ipykernel/__main__.py:2: SettingWithCopyWarning: \n",
      "A value is trying to be set on a copy of a slice from a DataFrame.\n",
      "Try using .loc[row_indexer,col_indexer] = value instead\n",
      "\n",
      "See the caveats in the documentation: http://pandas.pydata.org/pandas-docs/stable/indexing.html#indexing-view-versus-copy\n",
      "  from ipykernel import kernelapp as app\n",
      "/home/mobicfd/.local/lib/python2.7/site-packages/ipykernel/__main__.py:3: SettingWithCopyWarning: \n",
      "A value is trying to be set on a copy of a slice from a DataFrame.\n",
      "Try using .loc[row_indexer,col_indexer] = value instead\n",
      "\n",
      "See the caveats in the documentation: http://pandas.pydata.org/pandas-docs/stable/indexing.html#indexing-view-versus-copy\n",
      "  app.launch_new_instance()\n"
     ]
    }
   ],
   "source": [
    "FBpostsXnorm=FBpostsX\n",
    "FBpostsXnorm[\"account_idnorm\"]=preprocessing.scale(transformer.transform( FBpostsX['account_idnorm'].values.reshape(-1,1)))\n",
    "FBpostsXnorm[\"Categorynorm\"]  =preprocessing.scale(transformer.transform( FBpostsX['Categorynorm'].values.reshape(-1,1)))\n"
   ]
  },
  {
   "cell_type": "code",
   "execution_count": 116,
   "metadata": {
    "collapsed": false
   },
   "outputs": [
    {
     "data": {
      "text/html": [
       "<div>\n",
       "<table border=\"1\" class=\"dataframe\">\n",
       "  <thead>\n",
       "    <tr style=\"text-align: right;\">\n",
       "      <th></th>\n",
       "      <th>account_idnorm</th>\n",
       "      <th>Categorynorm</th>\n",
       "      <th>date_delta</th>\n",
       "      <th>share_count</th>\n",
       "      <th>reaction_count</th>\n",
       "      <th>comment_count</th>\n",
       "    </tr>\n",
       "  </thead>\n",
       "  <tbody>\n",
       "    <tr>\n",
       "      <th>count</th>\n",
       "      <td>2.282000e+03</td>\n",
       "      <td>2.282000e+03</td>\n",
       "      <td>2282.000000</td>\n",
       "      <td>2.282000e+03</td>\n",
       "      <td>2282.000000</td>\n",
       "      <td>2282.000000</td>\n",
       "    </tr>\n",
       "    <tr>\n",
       "      <th>mean</th>\n",
       "      <td>2.989137e-16</td>\n",
       "      <td>4.981895e-17</td>\n",
       "      <td>3.816389</td>\n",
       "      <td>4.044816e+03</td>\n",
       "      <td>5364.284649</td>\n",
       "      <td>516.102193</td>\n",
       "    </tr>\n",
       "    <tr>\n",
       "      <th>std</th>\n",
       "      <td>1.000219e+00</td>\n",
       "      <td>1.000219e+00</td>\n",
       "      <td>2.857424</td>\n",
       "      <td>2.937061e+04</td>\n",
       "      <td>19118.157564</td>\n",
       "      <td>3567.790281</td>\n",
       "    </tr>\n",
       "    <tr>\n",
       "      <th>min</th>\n",
       "      <td>-1.803096e+00</td>\n",
       "      <td>-9.959682e-01</td>\n",
       "      <td>0.000000</td>\n",
       "      <td>1.000000e+00</td>\n",
       "      <td>2.000000</td>\n",
       "      <td>0.000000</td>\n",
       "    </tr>\n",
       "    <tr>\n",
       "      <th>25%</th>\n",
       "      <td>5.195405e-01</td>\n",
       "      <td>-9.959682e-01</td>\n",
       "      <td>1.000000</td>\n",
       "      <td>2.500000e+01</td>\n",
       "      <td>149.000000</td>\n",
       "      <td>37.000000</td>\n",
       "    </tr>\n",
       "    <tr>\n",
       "      <th>50%</th>\n",
       "      <td>5.195405e-01</td>\n",
       "      <td>-9.959682e-01</td>\n",
       "      <td>3.000000</td>\n",
       "      <td>1.080000e+02</td>\n",
       "      <td>548.000000</td>\n",
       "      <td>132.000000</td>\n",
       "    </tr>\n",
       "    <tr>\n",
       "      <th>75%</th>\n",
       "      <td>5.943562e-01</td>\n",
       "      <td>9.640425e-01</td>\n",
       "      <td>7.000000</td>\n",
       "      <td>1.005000e+03</td>\n",
       "      <td>2422.750000</td>\n",
       "      <td>391.000000</td>\n",
       "    </tr>\n",
       "    <tr>\n",
       "      <th>max</th>\n",
       "      <td>6.636248e-01</td>\n",
       "      <td>1.058028e+00</td>\n",
       "      <td>8.000000</td>\n",
       "      <td>1.088995e+06</td>\n",
       "      <td>456458.000000</td>\n",
       "      <td>159047.000000</td>\n",
       "    </tr>\n",
       "  </tbody>\n",
       "</table>\n",
       "</div>"
      ],
      "text/plain": [
       "       account_idnorm  Categorynorm   date_delta   share_count  \\\n",
       "count    2.282000e+03  2.282000e+03  2282.000000  2.282000e+03   \n",
       "mean     2.989137e-16  4.981895e-17     3.816389  4.044816e+03   \n",
       "std      1.000219e+00  1.000219e+00     2.857424  2.937061e+04   \n",
       "min     -1.803096e+00 -9.959682e-01     0.000000  1.000000e+00   \n",
       "25%      5.195405e-01 -9.959682e-01     1.000000  2.500000e+01   \n",
       "50%      5.195405e-01 -9.959682e-01     3.000000  1.080000e+02   \n",
       "75%      5.943562e-01  9.640425e-01     7.000000  1.005000e+03   \n",
       "max      6.636248e-01  1.058028e+00     8.000000  1.088995e+06   \n",
       "\n",
       "       reaction_count  comment_count  \n",
       "count     2282.000000    2282.000000  \n",
       "mean      5364.284649     516.102193  \n",
       "std      19118.157564    3567.790281  \n",
       "min          2.000000       0.000000  \n",
       "25%        149.000000      37.000000  \n",
       "50%        548.000000     132.000000  \n",
       "75%       2422.750000     391.000000  \n",
       "max     456458.000000  159047.000000  "
      ]
     },
     "execution_count": 116,
     "metadata": {},
     "output_type": "execute_result"
    }
   ],
   "source": [
    "FBpostsXnorm.describe()"
   ]
  },
  {
   "cell_type": "markdown",
   "metadata": {},
   "source": [
    "Now to do it for share_count, reaction_count, comment_count"
   ]
  },
  {
   "cell_type": "code",
   "execution_count": 117,
   "metadata": {
    "collapsed": false
   },
   "outputs": [
    {
     "name": "stderr",
     "output_type": "stream",
     "text": [
      "/home/mobicfd/.local/lib/python2.7/site-packages/ipykernel/__main__.py:1: SettingWithCopyWarning: \n",
      "A value is trying to be set on a copy of a slice from a DataFrame.\n",
      "Try using .loc[row_indexer,col_indexer] = value instead\n",
      "\n",
      "See the caveats in the documentation: http://pandas.pydata.org/pandas-docs/stable/indexing.html#indexing-view-versus-copy\n",
      "  if __name__ == '__main__':\n",
      "/home/mobicfd/.local/lib/python2.7/site-packages/ipykernel/__main__.py:2: SettingWithCopyWarning: \n",
      "A value is trying to be set on a copy of a slice from a DataFrame.\n",
      "Try using .loc[row_indexer,col_indexer] = value instead\n",
      "\n",
      "See the caveats in the documentation: http://pandas.pydata.org/pandas-docs/stable/indexing.html#indexing-view-versus-copy\n",
      "  from ipykernel import kernelapp as app\n",
      "/home/mobicfd/.local/lib/python2.7/site-packages/ipykernel/__main__.py:3: SettingWithCopyWarning: \n",
      "A value is trying to be set on a copy of a slice from a DataFrame.\n",
      "Try using .loc[row_indexer,col_indexer] = value instead\n",
      "\n",
      "See the caveats in the documentation: http://pandas.pydata.org/pandas-docs/stable/indexing.html#indexing-view-versus-copy\n",
      "  app.launch_new_instance()\n"
     ]
    }
   ],
   "source": [
    "FBpostsXnorm[\"share_count\"]=preprocessing.scale(transformer.transform( FBpostsX['share_count'].values.reshape(-1,1)))\n",
    "FBpostsXnorm[\"reaction_count\"]  =preprocessing.scale(transformer.transform( FBpostsX['reaction_count'].values.reshape(-1,1)))\n",
    "FBpostsXnorm[\"comment_count\"]=preprocessing.scale(transformer.transform( FBpostsX['comment_count'].values.reshape(-1,1)))\n"
   ]
  },
  {
   "cell_type": "code",
   "execution_count": 118,
   "metadata": {
    "collapsed": false
   },
   "outputs": [
    {
     "data": {
      "text/html": [
       "<div>\n",
       "<table border=\"1\" class=\"dataframe\">\n",
       "  <thead>\n",
       "    <tr style=\"text-align: right;\">\n",
       "      <th></th>\n",
       "      <th>account_idnorm</th>\n",
       "      <th>Categorynorm</th>\n",
       "      <th>date_delta</th>\n",
       "      <th>share_count</th>\n",
       "      <th>reaction_count</th>\n",
       "      <th>comment_count</th>\n",
       "    </tr>\n",
       "  </thead>\n",
       "  <tbody>\n",
       "    <tr>\n",
       "      <th>count</th>\n",
       "      <td>2.282000e+03</td>\n",
       "      <td>2.282000e+03</td>\n",
       "      <td>2282.000000</td>\n",
       "      <td>2.282000e+03</td>\n",
       "      <td>2.282000e+03</td>\n",
       "      <td>2.282000e+03</td>\n",
       "    </tr>\n",
       "    <tr>\n",
       "      <th>mean</th>\n",
       "      <td>2.989137e-16</td>\n",
       "      <td>4.981895e-17</td>\n",
       "      <td>3.816389</td>\n",
       "      <td>1.619116e-16</td>\n",
       "      <td>2.740042e-16</td>\n",
       "      <td>-5.729179e-16</td>\n",
       "    </tr>\n",
       "    <tr>\n",
       "      <th>std</th>\n",
       "      <td>1.000219e+00</td>\n",
       "      <td>1.000219e+00</td>\n",
       "      <td>2.857424</td>\n",
       "      <td>1.000219e+00</td>\n",
       "      <td>1.000219e+00</td>\n",
       "      <td>1.000219e+00</td>\n",
       "    </tr>\n",
       "    <tr>\n",
       "      <th>min</th>\n",
       "      <td>-1.803096e+00</td>\n",
       "      <td>-9.959682e-01</td>\n",
       "      <td>0.000000</td>\n",
       "      <td>-1.800733e+00</td>\n",
       "      <td>-2.659409e+00</td>\n",
       "      <td>-2.881335e+00</td>\n",
       "    </tr>\n",
       "    <tr>\n",
       "      <th>25%</th>\n",
       "      <td>5.195405e-01</td>\n",
       "      <td>-9.959682e-01</td>\n",
       "      <td>1.000000</td>\n",
       "      <td>-7.583862e-01</td>\n",
       "      <td>-7.302285e-01</td>\n",
       "      <td>-7.023641e-01</td>\n",
       "    </tr>\n",
       "    <tr>\n",
       "      <th>50%</th>\n",
       "      <td>5.195405e-01</td>\n",
       "      <td>-9.959682e-01</td>\n",
       "      <td>3.000000</td>\n",
       "      <td>-1.759402e-01</td>\n",
       "      <td>-9.039570e-02</td>\n",
       "      <td>4.806048e-02</td>\n",
       "    </tr>\n",
       "    <tr>\n",
       "      <th>75%</th>\n",
       "      <td>5.943562e-01</td>\n",
       "      <td>9.640425e-01</td>\n",
       "      <td>7.000000</td>\n",
       "      <td>7.271964e-01</td>\n",
       "      <td>6.419058e-01</td>\n",
       "      <td>6.955441e-01</td>\n",
       "    </tr>\n",
       "    <tr>\n",
       "      <th>max</th>\n",
       "      <td>6.636248e-01</td>\n",
       "      <td>1.058028e+00</td>\n",
       "      <td>8.000000</td>\n",
       "      <td>3.566592e+00</td>\n",
       "      <td>3.225071e+00</td>\n",
       "      <td>4.293052e+00</td>\n",
       "    </tr>\n",
       "  </tbody>\n",
       "</table>\n",
       "</div>"
      ],
      "text/plain": [
       "       account_idnorm  Categorynorm   date_delta   share_count  \\\n",
       "count    2.282000e+03  2.282000e+03  2282.000000  2.282000e+03   \n",
       "mean     2.989137e-16  4.981895e-17     3.816389  1.619116e-16   \n",
       "std      1.000219e+00  1.000219e+00     2.857424  1.000219e+00   \n",
       "min     -1.803096e+00 -9.959682e-01     0.000000 -1.800733e+00   \n",
       "25%      5.195405e-01 -9.959682e-01     1.000000 -7.583862e-01   \n",
       "50%      5.195405e-01 -9.959682e-01     3.000000 -1.759402e-01   \n",
       "75%      5.943562e-01  9.640425e-01     7.000000  7.271964e-01   \n",
       "max      6.636248e-01  1.058028e+00     8.000000  3.566592e+00   \n",
       "\n",
       "       reaction_count  comment_count  \n",
       "count    2.282000e+03   2.282000e+03  \n",
       "mean     2.740042e-16  -5.729179e-16  \n",
       "std      1.000219e+00   1.000219e+00  \n",
       "min     -2.659409e+00  -2.881335e+00  \n",
       "25%     -7.302285e-01  -7.023641e-01  \n",
       "50%     -9.039570e-02   4.806048e-02  \n",
       "75%      6.419058e-01   6.955441e-01  \n",
       "max      3.225071e+00   4.293052e+00  "
      ]
     },
     "execution_count": 118,
     "metadata": {},
     "output_type": "execute_result"
    }
   ],
   "source": [
    "FBpostsXnorm.describe()"
   ]
  },
  {
   "cell_type": "markdown",
   "metadata": {},
   "source": [
    "# Training data, (Cross-)Validation, Test Data "
   ]
  },
  {
   "cell_type": "code",
   "execution_count": 119,
   "metadata": {
    "collapsed": false
   },
   "outputs": [],
   "source": [
    "ratiotrain=0.85\n",
    "ratiovalid=0.1\n",
    "ratiotest =0.05"
   ]
  },
  {
   "cell_type": "code",
   "execution_count": 140,
   "metadata": {
    "collapsed": false
   },
   "outputs": [
    {
     "name": "stdout",
     "output_type": "stream",
     "text": [
      "1939\n",
      "228\n",
      "115\n"
     ]
    }
   ],
   "source": [
    "N = len(FBpostsY.index)\n",
    "indshuffled=sklearn.utils.shuffle(np.arange(N))\n",
    "trainind=indshuffled[:int(ratiotrain*N)]\n",
    "validind=indshuffled[int(ratiotrain*N):int((ratiotrain+ratiovalid)*N)]\n",
    "testind=indshuffled[int((ratiotrain+ratiovalid)*N):]\n",
    "print(len(trainind))\n",
    "print(len(validind))\n",
    "print(len(testind))\n"
   ]
  },
  {
   "cell_type": "code",
   "execution_count": 148,
   "metadata": {
    "collapsed": false
   },
   "outputs": [],
   "source": [
    "FB_X_train=FBpostsXnorm.iloc[trainind]\n",
    "FB_X_valid=FBpostsXnorm.iloc[validind]\n",
    "FB_X_test=FBpostsXnorm.iloc[testind]\n",
    "FB_Y_train=FBpostsY.iloc[trainind]\n",
    "FB_Y_valid=FBpostsY.iloc[validind]\n",
    "FB_Y_test=FBpostsY.iloc[testind]\n"
   ]
  },
  {
   "cell_type": "code",
   "execution_count": 149,
   "metadata": {
    "collapsed": false
   },
   "outputs": [
    {
     "data": {
      "text/html": [
       "<div>\n",
       "<table border=\"1\" class=\"dataframe\">\n",
       "  <thead>\n",
       "    <tr style=\"text-align: right;\">\n",
       "      <th></th>\n",
       "      <th>account_idnorm</th>\n",
       "      <th>Categorynorm</th>\n",
       "      <th>date_delta</th>\n",
       "      <th>share_count</th>\n",
       "      <th>reaction_count</th>\n",
       "      <th>comment_count</th>\n",
       "    </tr>\n",
       "  </thead>\n",
       "  <tbody>\n",
       "    <tr>\n",
       "      <th>count</th>\n",
       "      <td>1939.000000</td>\n",
       "      <td>1939.000000</td>\n",
       "      <td>1939.000000</td>\n",
       "      <td>1939.000000</td>\n",
       "      <td>1939.000000</td>\n",
       "      <td>1939.000000</td>\n",
       "    </tr>\n",
       "    <tr>\n",
       "      <th>mean</th>\n",
       "      <td>0.001068</td>\n",
       "      <td>0.002823</td>\n",
       "      <td>3.820010</td>\n",
       "      <td>-0.007252</td>\n",
       "      <td>0.000431</td>\n",
       "      <td>0.003752</td>\n",
       "    </tr>\n",
       "    <tr>\n",
       "      <th>std</th>\n",
       "      <td>0.998766</td>\n",
       "      <td>1.000099</td>\n",
       "      <td>2.864518</td>\n",
       "      <td>0.991106</td>\n",
       "      <td>0.990227</td>\n",
       "      <td>0.983465</td>\n",
       "    </tr>\n",
       "    <tr>\n",
       "      <th>min</th>\n",
       "      <td>-1.803096</td>\n",
       "      <td>-0.995968</td>\n",
       "      <td>0.000000</td>\n",
       "      <td>-1.800733</td>\n",
       "      <td>-2.659409</td>\n",
       "      <td>-2.881335</td>\n",
       "    </tr>\n",
       "    <tr>\n",
       "      <th>25%</th>\n",
       "      <td>0.519541</td>\n",
       "      <td>-0.995968</td>\n",
       "      <td>1.000000</td>\n",
       "      <td>-0.758386</td>\n",
       "      <td>-0.718857</td>\n",
       "      <td>-0.671639</td>\n",
       "    </tr>\n",
       "    <tr>\n",
       "      <th>50%</th>\n",
       "      <td>0.519541</td>\n",
       "      <td>-0.995968</td>\n",
       "      <td>3.000000</td>\n",
       "      <td>-0.168551</td>\n",
       "      <td>-0.084148</td>\n",
       "      <td>0.048060</td>\n",
       "    </tr>\n",
       "    <tr>\n",
       "      <th>75%</th>\n",
       "      <td>0.594356</td>\n",
       "      <td>0.964042</td>\n",
       "      <td>7.000000</td>\n",
       "      <td>0.698313</td>\n",
       "      <td>0.638486</td>\n",
       "      <td>0.687854</td>\n",
       "    </tr>\n",
       "    <tr>\n",
       "      <th>max</th>\n",
       "      <td>0.663625</td>\n",
       "      <td>1.058028</td>\n",
       "      <td>8.000000</td>\n",
       "      <td>3.566592</td>\n",
       "      <td>3.225071</td>\n",
       "      <td>4.293052</td>\n",
       "    </tr>\n",
       "  </tbody>\n",
       "</table>\n",
       "</div>"
      ],
      "text/plain": [
       "       account_idnorm  Categorynorm   date_delta  share_count  reaction_count  \\\n",
       "count     1939.000000   1939.000000  1939.000000  1939.000000     1939.000000   \n",
       "mean         0.001068      0.002823     3.820010    -0.007252        0.000431   \n",
       "std          0.998766      1.000099     2.864518     0.991106        0.990227   \n",
       "min         -1.803096     -0.995968     0.000000    -1.800733       -2.659409   \n",
       "25%          0.519541     -0.995968     1.000000    -0.758386       -0.718857   \n",
       "50%          0.519541     -0.995968     3.000000    -0.168551       -0.084148   \n",
       "75%          0.594356      0.964042     7.000000     0.698313        0.638486   \n",
       "max          0.663625      1.058028     8.000000     3.566592        3.225071   \n",
       "\n",
       "       comment_count  \n",
       "count    1939.000000  \n",
       "mean        0.003752  \n",
       "std         0.983465  \n",
       "min        -2.881335  \n",
       "25%        -0.671639  \n",
       "50%         0.048060  \n",
       "75%         0.687854  \n",
       "max         4.293052  "
      ]
     },
     "execution_count": 149,
     "metadata": {},
     "output_type": "execute_result"
    }
   ],
   "source": [
    "FB_X_train.describe()"
   ]
  },
  {
   "cell_type": "code",
   "execution_count": 150,
   "metadata": {
    "collapsed": false
   },
   "outputs": [
    {
     "data": {
      "text/plain": [
       "count    1939.000000\n",
       "mean        0.635508\n",
       "std         0.213493\n",
       "min         0.000000\n",
       "25%         0.500000\n",
       "50%         0.750000\n",
       "75%         0.750000\n",
       "max         0.750000\n",
       "Name: Rating, dtype: float64"
      ]
     },
     "execution_count": 150,
     "metadata": {},
     "output_type": "execute_result"
    }
   ],
   "source": [
    "FB_Y_train.describe()"
   ]
  },
  {
   "cell_type": "code",
   "execution_count": 151,
   "metadata": {
    "collapsed": false
   },
   "outputs": [
    {
     "data": {
      "text/plain": [
       "count    115.000000\n",
       "mean       0.593478\n",
       "std        0.239839\n",
       "min        0.000000\n",
       "25%        0.500000\n",
       "50%        0.750000\n",
       "75%        0.750000\n",
       "max        0.750000\n",
       "Name: Rating, dtype: float64"
      ]
     },
     "execution_count": 151,
     "metadata": {},
     "output_type": "execute_result"
    }
   ],
   "source": [
    "FB_Y_test.describe()"
   ]
  },
  {
   "cell_type": "code",
   "execution_count": 152,
   "metadata": {
    "collapsed": true
   },
   "outputs": [],
   "source": [
    "FB_X_train.to_pickle(\"FB_X_train.pkl\") \n",
    "FB_X_valid.to_pickle(\"FB_X_valid.pkl\") \n",
    "FB_X_test.to_pickle(\"FB_X_test.pkl\") \n",
    "FB_Y_train.to_pickle(\"FB_Y_train.pkl\") \n",
    "FB_Y_valid.to_pickle(\"FB_Y_valid.pkl\") \n",
    "FB_Y_test.to_pickle(\"FB_Y_test.pkl\") \n"
   ]
  },
  {
   "cell_type": "code",
   "execution_count": 156,
   "metadata": {
    "collapsed": false
   },
   "outputs": [],
   "source": [
    "np.save(\"FB_X_train.npy\", FB_X_train.values) \n",
    "np.save(\"FB_X_valid.npy\", FB_X_valid.values)\n",
    "np.save(\"FB_X_test.npy\", FB_X_test.values)\n",
    "np.save(\"FB_Y_train.npy\", FB_Y_train.values)\n",
    "np.save(\"FB_Y_valid.npy\", FB_Y_valid.values)\n",
    "np.save(\"FB_Y_test.npy\", FB_Y_test.values)"
   ]
  },
  {
   "cell_type": "code",
   "execution_count": 159,
   "metadata": {
    "collapsed": false
   },
   "outputs": [
    {
     "data": {
      "text/plain": [
       "(1939, 6)"
      ]
     },
     "execution_count": 159,
     "metadata": {},
     "output_type": "execute_result"
    }
   ],
   "source": [
    "FB_X_train.values.shape"
   ]
  },
  {
   "cell_type": "code",
   "execution_count": null,
   "metadata": {
    "collapsed": true
   },
   "outputs": [],
   "source": []
  }
 ],
 "metadata": {
  "kernelspec": {
   "display_name": "Python 2",
   "language": "python",
   "name": "python2"
  },
  "language_info": {
   "codemirror_mode": {
    "name": "ipython",
    "version": 2
   },
   "file_extension": ".py",
   "mimetype": "text/x-python",
   "name": "python",
   "nbconvert_exporter": "python",
   "pygments_lexer": "ipython2",
   "version": "2.7.12"
  }
 },
 "nbformat": 4,
 "nbformat_minor": 2
}
